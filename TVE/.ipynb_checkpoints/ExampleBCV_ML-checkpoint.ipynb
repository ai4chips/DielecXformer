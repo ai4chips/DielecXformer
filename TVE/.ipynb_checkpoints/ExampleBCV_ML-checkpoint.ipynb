{
 "cells": [
  {
   "cell_type": "markdown",
   "id": "f2c6a9a9-a454-4ac2-95d4-22ef4cb7a14f",
   "metadata": {},
   "source": [
    "# **Transformer-based Encoding and Bayesian Model Evaluation**\n",
    "\n",
    "\n",
    "This script implements a two‑stage pipeline:\n",
    "\n",
    "\n",
    "## **1. Feature Encoding with a Transformer**\n",
    "\n",
    "### **Step 1: Initialize Seed**\n",
    "`setSeed(1)` is called to fix the random number generators (RNG) across different libraries for reproducibility (NumPy, Python `random`, TensorFlow, and PyTorch).\n",
    "\n",
    "\n",
    "### **Step 2: Load Data**\n",
    "- The data is loaded from `CrystalFeatureMatrix.csv` using `pandas.read_csv()`, with all columns read as strings (`dtype=str`).\n",
    "- The number of feature columns (`dimModel`) is calculated by selecting the first column through `FA15`.\n",
    "\n",
    "\n",
    "### **Step 3: Run Transformer Encoding**\n",
    "- An instance of `TransformerBasedVariantEncoderRunner` is created with the following parameters:\n"
   ]
  },
  {
   "cell_type": "code",
   "execution_count": null,
   "id": "e03ca99c-acb9-4897-83c2-3250be56aa37",
   "metadata": {},
   "outputs": [
    {
     "name": "stdout",
     "output_type": "stream",
     "text": [
      "Starting the encoding process with 8 layers...\n",
      "====================================================================================================\n",
      "Processing Layers: [■■■■■□□□□□□□□□□□□□□□□□□□□□□□□□□□□□□□□□□□] 12.50%\n",
      "----------------------------------------------------------------------------------------------------\n",
      "Processing layer 1/8...\n",
      "[1/4] Model for layer 1 saved at: checkpoints/transformer_models/encoderLayer1.pth\n",
      "[2/4] Encoding the input tensor using the transformer model...\n",
      "[3/4] Processing the encoded output...\n",
      "[4/4] Layer 1 encoding completed. Output saved to: outputs/encoded_features/encodedOutputLayer1.csv\n",
      "\n",
      "\n",
      "Processing Layers: [■■■■■■■■■■□□□□□□□□□□□□□□□□□□□□□□□□□□□□□□] 25.00%\n",
      "----------------------------------------------------------------------------------------------------\n",
      "Processing layer 2/8...\n",
      "[1/4] Model for layer 2 saved at: checkpoints/transformer_models/encoderLayer2.pth\n",
      "[2/4] Encoding the input tensor using the transformer model...\n"
     ]
    }
   ],
   "source": [
    "from TransformerBasedVariantEncoder import TransformerBasedVariantEncoderRunner, setSeed\n",
    "import pandas as pd\n",
    "\n",
    "if __name__ == \"__main__\":\n",
    "    # Example execution\n",
    "    setSeed(1)\n",
    "    dataPath = 'CrystalFeatureMatrix.csv'\n",
    "    modelDir = 'checkpoints/transformer_models'\n",
    "    outputDir = 'outputs/encoded_features'\n",
    "\n",
    "    df = pd.read_csv(dataPath, dtype=str)\n",
    "    dimModel = df.loc[:, df.columns[0]:'FA15'].shape[1]\n",
    "\n",
    "    runner = TransformerBasedVariantEncoderRunner(\n",
    "        dataPath=dataPath,\n",
    "        modelDir=modelDir,\n",
    "        outputDir=outputDir,\n",
    "        dimModel=dimModel,\n",
    "        numHeads=5\n",
    "    )\n",
    "    runner.run(maxLayers=8)"
   ]
  },
  {
   "cell_type": "markdown",
   "id": "059be68e-7f75-46c7-860b-3ef6aadb1cd4",
   "metadata": {},
   "source": [
    "## **2. Bayesian Cross-Validation with Machine Learning Models**\n",
    "\n",
    "### **Step 1: Ignore UserWarnings**\n",
    "- The script globally suppresses `UserWarning` using the following code:"
   ]
  },
  {
   "cell_type": "code",
   "execution_count": null,
   "id": "642651d8-f980-44e2-bc4e-c79584a58cd3",
   "metadata": {},
   "outputs": [],
   "source": [
    "import warnings\n",
    "import re\n",
    "\n",
    "warnings.simplefilter(\"ignore\", UserWarning)"
   ]
  },
  {
   "cell_type": "markdown",
   "id": "c0242096-cd99-4523-87f1-9439631274d4",
   "metadata": {},
   "source": [
    "### **Step 2: Set Seed for Bayesian Models**\n",
    "\n",
    "- The set_seed(1) function is called again to ensure consistent results for the Bayesian cross-validation models:"
   ]
  },
  {
   "cell_type": "code",
   "execution_count": null,
   "id": "518aaa86-e0dd-4249-8d1a-3da78245a5fb",
   "metadata": {},
   "outputs": [],
   "source": [
    "from BayesianCV import BayesianCrossValidatedModel, set_seed\n",
    "set_seed(42)\n",
    "folder_path = 'outputs/encoded_features'"
   ]
  },
  {
   "cell_type": "markdown",
   "id": "ac26c942-383b-4db8-8207-4630362bef01",
   "metadata": {},
   "source": [
    "### **Step 3: Run Bayesian Cross-Validation on Encoded Features**\n",
    "\n",
    "The script then loads the encoded feature files from the `outputs/encoded_features` directory and runs Bayesian cross-validation using the following machine learning models:\n",
    "\n",
    "- **Random Forest (`rf`)**:"
   ]
  },
  {
   "cell_type": "code",
   "execution_count": null,
   "id": "006ed3df-905e-433a-b453-c2c2c1ccff44",
   "metadata": {},
   "outputs": [],
   "source": [
    "model_rf = BayesianCrossValidatedModel(model_type=\"rf\")\n",
    "model_rf.run_on_folder(folder_path, 'bayesian_rf.csv')"
   ]
  },
  {
   "cell_type": "markdown",
   "id": "27ee726d-2556-46c9-82eb-eb6d1910b69b",
   "metadata": {},
   "source": [
    "- **Multi-layer Perceptron (`mlp`)**:"
   ]
  },
  {
   "cell_type": "code",
   "execution_count": null,
   "id": "87763317-8eec-4957-b12c-1abeffb0c2ea",
   "metadata": {},
   "outputs": [],
   "source": [
    "model_mlp = BayesianCrossValidatedModel(model_type=\"mlp\")\n",
    "model_mlp.run_on_folder(folder_path, 'bayesian_mlp.csv')"
   ]
  },
  {
   "cell_type": "markdown",
   "id": "648ab04b-935b-41db-a9ab-8d7cde50b2ac",
   "metadata": {},
   "source": [
    "- **K-Nearest Neighbors (`knn`)**:"
   ]
  },
  {
   "cell_type": "code",
   "execution_count": null,
   "id": "54e6c3f0-791c-418f-b81c-0a402275350d",
   "metadata": {},
   "outputs": [],
   "source": [
    "model_knn = BayesianCrossValidatedModel(model_type=\"knn\")\n",
    "model_knn.run_on_folder(folder_path, 'bayesian_knn.csv')"
   ]
  },
  {
   "cell_type": "markdown",
   "id": "c1d0cd72-a2d9-41f1-8506-df8a8f96185e",
   "metadata": {},
   "source": [
    "- **Support Vector Machine (`svm`)**:"
   ]
  },
  {
   "cell_type": "code",
   "execution_count": null,
   "id": "9ecc8be9-9b6a-4837-8f2a-e234fbfeeb98",
   "metadata": {},
   "outputs": [],
   "source": [
    "model_svm = BayesianCrossValidatedModel(model_type=\"svm\")\n",
    "model_svm.run_on_folder(folder_path, 'bayesian_svm.csv')"
   ]
  },
  {
   "cell_type": "markdown",
   "id": "827b93ee-0e33-4caa-8a8f-74a4eadc920b",
   "metadata": {},
   "source": [
    "## **3. Output Files**\n",
    "For each model, the results are saved in separate `CSV` files, such as `bayesian_rf.csv`, `bayesian_mlp.csv`, `bayesian_knn.csv`, and `bayesian_svm.csv`, which contain the performance metrics from the cross-validation."
   ]
  },
  {
   "cell_type": "code",
   "execution_count": null,
   "id": "3c352b22-56da-40a0-b97f-a430dffbf8fc",
   "metadata": {},
   "outputs": [],
   "source": []
  }
 ],
 "metadata": {
  "kernelspec": {
   "display_name": "Python 3 (ipykernel)",
   "language": "python",
   "name": "python3"
  },
  "language_info": {
   "codemirror_mode": {
    "name": "ipython",
    "version": 3
   },
   "file_extension": ".py",
   "mimetype": "text/x-python",
   "name": "python",
   "nbconvert_exporter": "python",
   "pygments_lexer": "ipython3",
   "version": "3.11.5"
  }
 },
 "nbformat": 4,
 "nbformat_minor": 5
}
